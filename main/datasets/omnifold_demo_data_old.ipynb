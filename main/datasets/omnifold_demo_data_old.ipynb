{
 "cells": [
  {
   "cell_type": "markdown",
   "metadata": {},
   "source": [
    "# OmniFold Demo\n",
    "\n",
    "In this tutorial, we showcase the OmniFold method for universally unfolding collider data using synthetic datasets of jets.\n",
    "\n",
    "Unfolding is the problem of estimating the particle-level (`truth`) information from the measured detector-level data (`data`). The detector is imperfect and smears the particle-level radiation pattern, giving rise to the need to unfold, which is particularly important for jet substructure. OmniFold uses a synthetic dataset where the particle-level (`generation`) and detector-level (`simulation`) information are both known.\n",
    "\n",
    "OmniFold is an iterative unfolding procedure consisting of two steps.\n",
    "* First, the `simulation` is reweighted to the `data`.\n",
    "* Second, the previous `generation` is reweighted to the new `generation`.\n",
    "\n",
    "OmniFold results in a set of weights for the `generation` that reweight it to an estimate for the `truth` distribution."
   ]
  },
  {
   "cell_type": "markdown",
   "metadata": {},
   "source": [
    "### Imports"
   ]
  },
  {
   "cell_type": "code",
   "execution_count": 1,
   "metadata": {},
   "outputs": [],
   "source": [
    "import sys\n",
    "sys.path.append(\"../OmniFold\")\n",
    "sys.path.append(\"../unfolding\")\n",
    "import numpy as np\n",
    "import matplotlib.pyplot as plt\n",
    "import energyflow as ef\n",
    "import pandas as pd\n",
    "\n",
    "import modplot\n",
    "import ibu\n",
    "from bdt_omnifold import binned_omnifold\n",
    "from bdt_omnifold import unbinned_omnifold "
   ]
  },
  {
   "cell_type": "markdown",
   "metadata": {},
   "source": [
    "### Plot Style"
   ]
  },
  {
   "cell_type": "code",
   "execution_count": 2,
   "metadata": {},
   "outputs": [],
   "source": [
    "plt.rcParams['figure.figsize'] = (4,4)\n",
    "plt.rcParams['figure.dpi'] = 120\n",
    "plt.rcParams['font.family'] = 'serif'"
   ]
  },
  {
   "cell_type": "markdown",
   "metadata": {},
   "source": [
    "## Loading the Datasets\n",
    "\n",
    "The datasets consists of jets that are produced in association with a $Z$ boson ($Z$+jet with $p_T^Z>200$ GeV).\n",
    "Jets are clustered with the anti-$k_T$ algorithm with a radius of $R=0.4$ and the leading (highest $p_T$) jet is taken. This procedure is done with several tunes of Pythia and the default tune of Hergwig, both before and after passing through a DELPHES simulation of the CMS detector.\n",
    "\n",
    "These samples are publicly available on [Zenodo](https://zenodo.org/record/3548091#.XdbOvjJKhlo), with automatic download and read-in provided by the [EnergyFlow](https://energyflow.network) Python package.\n",
    "\n",
    "**Customize**: Read in `'Pythia21'` and `'Pythia25'` to explore other tunes. Change `num_data` to vary the amount of data, `-1` is the entire dataset."
   ]
  },
  {
   "cell_type": "code",
   "execution_count": 3,
   "metadata": {},
   "outputs": [],
   "source": [
    "datasets = {'Pythia26': ef.zjets_delphes.load('Pythia26', num_data=100000, exclude_keys=['particles']),\n",
    "            'Herwig': ef.zjets_delphes.load('Herwig', num_data=100000, exclude_keys=['particles'])}"
   ]
  },
  {
   "cell_type": "markdown",
   "metadata": {},
   "source": [
    "## Specifying the Unfolding Problem\n",
    "\n",
    "OmniFold requires particle-level event generators (here, Pythia or Herwig) as well as a faithful simulation of the detector (here, DELPHES). By default we will treat Herwig as the natural \"truth\"/\"data\" and Pythia as the synthetic \"generation\"/\"simulation\".\n",
    "\n",
    "**Customize**: Change which tune of Pythia is used and which generator is used as `synthetic` or `nature`. Change plot stamps below accordingly."
   ]
  },
  {
   "cell_type": "code",
   "execution_count": 4,
   "metadata": {},
   "outputs": [],
   "source": [
    "# choose what is MC and Data in this context\n",
    "synthetic, nature = datasets['Pythia26'], datasets['Herwig']"
   ]
  },
  {
   "cell_type": "markdown",
   "metadata": {},
   "source": [
    "We also have to specify `itnum`: how many iterations of the unfolding procedure we want to do.\n",
    "\n",
    "**Customize**: Change `itnum` to your desired number of unfolding iterations."
   ]
  },
  {
   "cell_type": "code",
   "execution_count": 5,
   "metadata": {},
   "outputs": [],
   "source": [
    "# how many iterations of the unfolding process\n",
    "itnum = 3"
   ]
  },
  {
   "cell_type": "markdown",
   "metadata": {},
   "source": [
    "There are three flavors of OmniFold. In order of increasing sophistication, they are:\n",
    "* **UniFold**: Represent the jet as a single observable.\n",
    "* **MultiFold**: Represent the jet as multiple observables.\n",
    "* **OmniFold**: Represent the jet as a set of particles.\n",
    "\n",
    "By default, we will implement MultiFold and represent the jet using six jet substructure observbles:\n",
    "* `'Mass'`, Jet Mass $m$: the invaraiant mass of the jet four-vector\n",
    "* `'Mult'`, Constituent Multiplicity $M$: the number of particles in the jet\n",
    "* `'Width'`, Jet Width $w$: a measure of how broad the jet is\n",
    "* `'Tau21'`, $N$-subjettiness Ratio $\\tau_{21}$: a measure of how two-pronged the jet is\n",
    "* `'zg'`, Groomed Momentum Fraction $z_g$: the energy-sharing of the prongs after grooming\n",
    "* `'SDMass'`, Groomed Jet Mass $m_{\\rm SD}$: the invariant mass of the jet four-vector after grooming\n",
    "\n",
    "**Customize**: Change which observables are used in MultiFold. UniFold corresponds to using a single observable."
   ]
  },
  {
   "cell_type": "code",
   "execution_count": 6,
   "metadata": {},
   "outputs": [],
   "source": [
    "obs_multifold = ['Mass', 'Mult', 'Width', 'Tau21', 'zg', 'SDMass']"
   ]
  },
  {
   "cell_type": "markdown",
   "metadata": {},
   "source": [
    "The observables are already computed in the samples. We will read them in as an observable dictionary `obs` and also specify histogram style information.\n",
    "\n",
    "**Customize**: Add entries to `obs` to define your own observables to be used in MultiFold or to see the unfolding performance on them."
   ]
  },
  {
   "cell_type": "code",
   "execution_count": 7,
   "metadata": {},
   "outputs": [],
   "source": [
    "# a dictionary to hold information about the observables\n",
    "obs = {}\n",
    "\n",
    "# the jet mass and histogram style information\n",
    "obs.setdefault('Mass', {}).update({\n",
    "    'func': lambda dset, ptype: dset[ptype + '_jets'][:,3],\n",
    "    'nbins_det': 50, 'nbins_mc': 50,\n",
    "    'xlim': (0, 75), 'ylim': (0, 0.065),\n",
    "    'xlabel': r'Jet Mass $m$ [GeV]', 'symbol': r'$m$',\n",
    "    'ylabel': r'Normalized Cross Section [GeV$^{-1}$]',\n",
    "    'stamp_xy': (0.425, 0.65),\n",
    "})\n",
    "\n",
    "# the constituent multiplicity and histogram style information\n",
    "obs.setdefault('Mult', {}).update({\n",
    "    'func': lambda dset, ptype: dset[ptype + '_mults'],\n",
    "    'nbins_det': 80, 'nbins_mc': 80,\n",
    "    'xlim': (0, 80), 'ylim': (0, 0.065),\n",
    "    'xlabel': 'Jet Constituent Multiplicity $M$', 'symbol': r'$M$',\n",
    "    'ylabel': r'Normalized Cross Section',\n",
    "    'stamp_xy': (0.42, 0.65),\n",
    "})\n",
    "\n",
    "# the jet width and histogram style information\n",
    "obs.setdefault('Width', {}).update({\n",
    "    'func': lambda dset, ptype: dset[ptype + '_widths'],\n",
    "    'nbins_det': 50, 'nbins_mc': 50,\n",
    "    'xlim': (0, 0.6), 'ylim': (0, 10),\n",
    "    'xlabel': r'Jet Width $w$', 'symbol': r'$w$',\n",
    "    'ylabel': r'Normalized Cross Section',\n",
    "    'stamp_xy': (0.425, 0.65),\n",
    "})\n",
    "\n",
    "# the N-subjettiness ratio and histogram style information\n",
    "obs.setdefault('Tau21', {}).update({\n",
    "    'func': lambda dset, ptype: dset[ptype + '_tau2s']/(dset[ptype + '_widths'] + 10**-50),\n",
    "    'nbins_det': 50, 'nbins_mc': 50,\n",
    "    'xlim': (0, 1.2), 'ylim': (0, 3),\n",
    "    'xlabel': r'$N$-subjettiness Ratio $\\tau_{21}^{(\\beta=1)}$', 'symbol': r'$\\tau_{21}^{(\\beta=1)}$',\n",
    "    'ylabel': r'Normalized Cross Section',\n",
    "    'stamp_xy': (0.41, 0.92),\n",
    "    'legend_loc': 'upper left', 'legend_ncol': 1,\n",
    "})\n",
    "\n",
    "# the groomed momentum fraction and histogram style information\n",
    "obs.setdefault('zg', {}).update({\n",
    "    'func': lambda dset, ptype: dset[ptype + '_zgs'],\n",
    "    'nbins_det': 50, 'nbins_mc': 50,\n",
    "    'xlim': (0, 0.5), 'ylim': (0, 9),\n",
    "    'xlabel': r'Groomed Jet Momentum Fraction $z_g$', 'symbol': r'$z_g$',\n",
    "    'ylabel': 'Normalized Cross Section',\n",
    "    'stamp_xy': (0.425, 0.65),\n",
    "})\n",
    "\n",
    "# the groomed jet mass and histogram style information\n",
    "obs.setdefault('SDMass', {}).update({\n",
    "    'func': lambda dset, ptype: np.log(dset[ptype + '_sdms']**2/\n",
    "                                       dset[ptype + '_jets'][:,0]**2 + 10**-100),\n",
    "    'nbins_det': 50, 'nbins_mc': 50,\n",
    "    'xlim': (-14, -2), 'ylim': (0, 0.3),\n",
    "    'xlabel': r'Soft Drop Jet Mass $\\ln\\rho$', 'symbol': r'$\\ln\\rho$',\n",
    "    'ylabel': r'Normalized Cross Section',\n",
    "    'stamp_xy': (0.41, 0.92),\n",
    "    'legend_loc': 'upper left', 'legend_ncol': 1,\n",
    "})\n",
    "\n",
    "# additional histogram and plot style information\n",
    "hist_style = {'histtype': 'step', 'density': True, 'lw': 1, 'zorder': 2}\n",
    "gen_style = {'linestyle': '--', 'color': 'blue', 'lw': 1.15, 'label': 'Gen.'}\n",
    "truth_style = {'step': 'mid', 'edgecolor': 'green', 'facecolor': (0.75, 0.875, 0.75),\n",
    "               'lw': 1.25, 'zorder': 0, 'label': '``Truth\\\"'}\n",
    "ibu_style = {'ls': '-', 'marker': 'o', 'ms': 2.5, 'color': 'gray', 'zorder': 1}\n",
    "omnifold_style = {'ls': '-', 'marker': 's', 'ms': 2.5, 'color': 'tab:red', 'zorder': 3}"
   ]
  },
  {
   "cell_type": "markdown",
   "metadata": {},
   "source": [
    "Now all that remains is to get the values of the specified observables and compute the histograms with the specified binnings. As an unfolding benchmark, we also obtain the unfolding results of Iterative Bayesian Unfolding (IBU) as implemented in `ibu.py`. The following cell takes care of all of these aspects."
   ]
  },
  {
   "cell_type": "code",
   "execution_count": 8,
   "metadata": {},
   "outputs": [
    {
     "name": "stdout",
     "output_type": "stream",
     "text": [
      "(100000,) (100000,) (100000,) (100000,)\n",
      "Done with Mass\n",
      "(100000,) (100000,) (100000,) (100000,)\n",
      "Done with Mult\n",
      "(100000,) (100000,) (100000,) (100000,)\n",
      "Done with Width\n",
      "(100000,) (100000,) (100000,) (100000,)\n",
      "Done with Tau21\n",
      "(100000,) (100000,) (100000,) (100000,)\n",
      "Done with zg\n",
      "(100000,) (100000,) (100000,) (100000,)\n",
      "Done with SDMass\n"
     ]
    }
   ],
   "source": [
    "# calculate quantities to be stored in obs\n",
    "for obkey,ob in obs.items():\n",
    "    \n",
    "    # calculate observable for GEN, SIM, DATA, and TRUE\n",
    "    ob['genobs'], ob['simobs'] = ob['func'](synthetic, 'gen'), ob['func'](synthetic, 'sim')\n",
    "    ob['truthobs'], ob['dataobs'] = ob['func'](nature, 'gen'), ob['func'](nature, 'sim')\n",
    "\n",
    "    print(ob['truthobs'].shape, ob['dataobs'].shape, ob['genobs'].shape, ob['simobs'].shape)\n",
    "    \n",
    "    # setup bins\n",
    "    ob['bins_det'] = np.linspace(ob['xlim'][0], ob['xlim'][1], ob['nbins_det']+1)\n",
    "    ob['bins_mc'] = np.linspace(ob['xlim'][0], ob['xlim'][1], ob['nbins_mc']+1)\n",
    "    ob['midbins_det'] = (ob['bins_det'][:-1] + ob['bins_det'][1:])/2\n",
    "    ob['midbins_mc'] = (ob['bins_mc'][:-1] + ob['bins_mc'][1:])/2\n",
    "    ob['binwidth_det'] = ob['bins_det'][1] - ob['bins_det'][0]\n",
    "    ob['binwidth_mc'] = ob['bins_mc'][1] - ob['bins_mc'][0]\n",
    "    \n",
    "    # get the histograms of GEN, DATA, and TRUTH level observables\n",
    "    ob['genobs_hist'] = np.histogram(ob['genobs'], bins=ob['bins_mc'], density=True)[0]\n",
    "    ob['data_hist'] = np.histogram(ob['dataobs'], bins=ob['bins_det'], density=True)[0]\n",
    "    ob['truth_hist'], ob['truth_hist_unc'] = modplot.calc_hist(ob['truthobs'], bins=ob['bins_mc'], \n",
    "                                                               density=True)[:2]\n",
    "\n",
    "    # compute (and normalize) the response matrix between GEN and SIM\n",
    "    ob['response'] = np.histogram2d(ob['simobs'], ob['genobs'], bins=(ob['bins_det'], ob['bins_mc']))[0]\n",
    "    ob['response'] /= (ob['response'].sum(axis=0) + 10**-50)\n",
    "    \n",
    "    # perform iterative Bayesian unfolding\n",
    "    ob['ibu_phis'] = ibu.ibu(ob['data_hist'], ob['response'], ob['genobs_hist'], \n",
    "                         ob['binwidth_det'], ob['binwidth_mc'], it=itnum)\n",
    "    ob['ibu_phi_unc'] = ibu.ibu_unc(ob, it=itnum, nresamples=25)\n",
    "    \n",
    "    print('Done with', obkey)"
   ]
  },
  {
   "cell_type": "markdown",
   "metadata": {},
   "source": [
    "## Unbinned BDT OmniFold"
   ]
  },
  {
   "cell_type": "code",
   "execution_count": 9,
   "metadata": {},
   "outputs": [
    {
     "name": "stdout",
     "output_type": "stream",
     "text": [
      "(6, 100000) (6, 100000) (6, 100000) (6, 100000)\n"
     ]
    }
   ],
   "source": [
    "mc_entries = np.asarray([obs[obkey]['genobs'] for obkey in obs_multifold])\n",
    "sim_entries = np.asarray([obs[obkey]['simobs'] for obkey in obs_multifold])\n",
    "measured_entries = np.asarray([obs[obkey]['dataobs'] for obkey in obs_multifold])\n",
    "truth_entries = np.asarray([obs[obkey]['truthobs'] for obkey in obs_multifold])\n",
    "\n",
    "pass_reco_mask = np.full((100000), True)\n",
    "pass_truth_mask = np.full((100000), True)\n",
    "\n",
    "print(mc_entries.shape, sim_entries.shape, measured_entries.shape, truth_entries.shape)\n",
    "\n"
   ]
  },
  {
   "cell_type": "code",
   "execution_count": 10,
   "metadata": {},
   "outputs": [
    {
     "name": "stdout",
     "output_type": "stream",
     "text": [
      "Starting iteration 0\n",
      "Starting iteration 1\n",
      "Starting iteration 2\n",
      "Starting iteration 0\n",
      "Starting iteration 1\n",
      "Starting iteration 2\n",
      "Starting iteration 0\n",
      "Starting iteration 1\n",
      "Starting iteration 2\n",
      "Starting iteration 0\n",
      "Starting iteration 1\n",
      "Starting iteration 2\n",
      "Starting iteration 0\n",
      "Starting iteration 1\n",
      "Starting iteration 2\n",
      "Starting iteration 0\n",
      "Starting iteration 1\n",
      "Starting iteration 2\n"
     ]
    }
   ],
   "source": [
    "unbinned_results = []\n",
    "\n",
    "for i, _ in enumerate(obs_multifold):\n",
    "    unbinned_results.append(\n",
    "        unbinned_omnifold(mc_entries[i], sim_entries[i], measured_entries[i], pass_reco_mask, pass_truth_mask, itnum)\n",
    "    )\n"
   ]
  },
  {
   "cell_type": "markdown",
   "metadata": {},
   "source": [
    "# Binned BDT Omnifold"
   ]
  },
  {
   "cell_type": "code",
   "execution_count": null,
   "metadata": {},
   "outputs": [],
   "source": [
    "def binned_unfold(response, measured_hist, MC_bins, MC_low, MC_high):\n",
    "    binned_weights, MC_entries, _, _ = binned_omnifold(response, measured_hist, num_iterations)\n",
    "    \n",
    "    omnifold_MC_hist_binned, omnifold_MC_bin_edges_binned = np.histogram(\n",
    "        MC_entries.flatten(), \n",
    "        weights=binned_weights[-1][1], \n",
    "        bins=MC_bins, \n",
    "        range=[MC_low, MC_high]\n",
    "    )\n",
    "    omnifold_MC_bin_centers_binned = (omnifold_MC_bin_edges_binned[:-1] + omnifold_MC_bin_edges_binned[1:]) / 2\n",
    "\n",
    "    efficiencies = response.Vefficiency()\n",
    "    efficiencies_np = np.empty(efficiencies.GetNoElements())\n",
    "\n",
    "    for i in range(efficiencies.GetNoElements()):\n",
    "        efficiencies_np[i] = efficiencies[i]\n",
    "\n",
    "    omnifold_MC_hist_binned = np.divide(\n",
    "        omnifold_MC_hist_binned, \n",
    "        efficiencies_np, \n",
    "        out=np.zeros_like(omnifold_MC_hist_binned, dtype=np.float32),\n",
    "        where=(\n",
    "            (efficiencies_np != 0) & \n",
    "            (~np.isnan(efficiencies_np)) & \n",
    "            (~np.isinf(efficiencies_np))\n",
    "        )\n",
    "    )\n",
    "    return omnifold_MC_hist_binned, omnifold_MC_bin_centers_binned\n",
    "\n",
    "\n",
    "binned_results = []\n",
    "for i, _ in enumerate(obs_multifold):\n",
    "    result = binned_unfold(response, measured_hist, bins, bins_low, bins_high)\n",
    "    binned_results.append(result)"
   ]
  },
  {
   "cell_type": "markdown",
   "metadata": {},
   "source": [
    "## Plot Unfolding Results\n",
    "\n",
    "Now it's time to plot the unfolding results for all of the specified observables!"
   ]
  },
  {
   "cell_type": "code",
   "execution_count": 12,
   "metadata": {
    "scrolled": false
   },
   "outputs": [
    {
     "ename": "NameError",
     "evalue": "name 'of_histgen' is not defined",
     "output_type": "error",
     "traceback": [
      "\u001b[0;31m---------------------------------------------------------------------------\u001b[0m",
      "\u001b[0;31mNameError\u001b[0m                                 Traceback (most recent call last)",
      "Cell \u001b[0;32mIn[12], line 29\u001b[0m\n\u001b[1;32m     20\u001b[0m ax0\u001b[38;5;241m.\u001b[39mfill_between(ob[\u001b[38;5;124m'\u001b[39m\u001b[38;5;124mmidbins_mc\u001b[39m\u001b[38;5;124m'\u001b[39m], ob[\u001b[38;5;124m'\u001b[39m\u001b[38;5;124mtruth_hist\u001b[39m\u001b[38;5;124m'\u001b[39m], \u001b[38;5;241m*\u001b[39m\u001b[38;5;241m*\u001b[39mtruth_style)\n\u001b[1;32m     23\u001b[0m \u001b[38;5;66;03m# UNBINNED RESULTS\u001b[39;00m\n\u001b[0;32m---> 29\u001b[0m ax0\u001b[38;5;241m.\u001b[39mplot(ob[\u001b[38;5;124m'\u001b[39m\u001b[38;5;124mmidbins_mc\u001b[39m\u001b[38;5;124m'\u001b[39m], \u001b[43mof_histgen\u001b[49m, \u001b[38;5;241m*\u001b[39m\u001b[38;5;241m*\u001b[39momnifold_style, label\u001b[38;5;241m=\u001b[39m\u001b[38;5;124m'\u001b[39m\u001b[38;5;124mMultiFold\u001b[39m\u001b[38;5;124m'\u001b[39m)\n\u001b[1;32m     31\u001b[0m \u001b[38;5;66;03m# plot the IBU distributio\u001b[39;00m\n\u001b[1;32m     32\u001b[0m ax0\u001b[38;5;241m.\u001b[39mplot(ob[\u001b[38;5;124m'\u001b[39m\u001b[38;5;124mmidbins_mc\u001b[39m\u001b[38;5;124m'\u001b[39m], ob[\u001b[38;5;124m'\u001b[39m\u001b[38;5;124mibu_phis\u001b[39m\u001b[38;5;124m'\u001b[39m][itnum], \u001b[38;5;241m*\u001b[39m\u001b[38;5;241m*\u001b[39mibu_style, label\u001b[38;5;241m=\u001b[39m\u001b[38;5;124m'\u001b[39m\u001b[38;5;124mIBU \u001b[39m\u001b[38;5;124m'\u001b[39m \u001b[38;5;241m+\u001b[39m ob[\u001b[38;5;124m'\u001b[39m\u001b[38;5;124msymbol\u001b[39m\u001b[38;5;124m'\u001b[39m])\n",
      "\u001b[0;31mNameError\u001b[0m: name 'of_histgen' is not defined"
     ]
    },
    {
     "data": {
      "image/png": "[encoded data removed]",
      "text/plain": [
       "<Figure size 480x480 with 2 Axes>"
      ]
     },
     "metadata": {},
     "output_type": "display_data"
    }
   ],
   "source": [
    "for i,(obkey,ob) in enumerate(obs.items()):\n",
    "    \n",
    "    # get the styled axes on which to plot\n",
    "    fig, [ax0, ax1] = modplot.axes(**ob)\n",
    "    if ob.get('yscale') is not None:\n",
    "        ax0.set_yscale(ob['yscale'])\n",
    "\n",
    "        \n",
    "    # Plot the Different Distributions of the Observable\n",
    "    # plot the \"data\" histogram of the observable\n",
    "    ax0.hist(ob['dataobs'], bins=ob['bins_det'], color='black', label='``Data\\\"', **hist_style)\n",
    "\n",
    "    # plot the \"sim\" histogram of the observable\n",
    "    ax0.hist(ob['simobs'], bins=ob['bins_det'], color='orange', label='Sim.', **hist_style)\n",
    "\n",
    "    # plot the \"gen\" histogram of the observable\n",
    "    ax0.plot(ob['midbins_mc'], ob['genobs_hist'], **gen_style)\n",
    "\n",
    "    # plot the \"truth\" histogram of the observable\n",
    "    ax0.fill_between(ob['midbins_mc'], ob['truth_hist'], **truth_style)\n",
    "\n",
    "    \n",
    "    # UNBINNED RESULTS\n",
    "    unbinned_weights, MC_entries_unbinned, sim_entries_unbinned, pass_reco_mask_unbinned = unbinned_results[i]\n",
    "    omnifold_sim_hist_unbinned, omnifold_sim_bin_edges_unbinned = np.histogram(\n",
    "        MC_entries_unbinned.flatten(),\n",
    "        weights=unbinned_weights[iteration_to_plot, 1],\n",
    "        bins=bins[i][0],\n",
    "        range=[bins[i][1], bins[i][2]]\n",
    "    )\n",
    "    omnifold_sim_bin_centers_unbinned = (omnifold_sim_bin_edges_unbinned[:-1] + omnifold_sim_bin_edges_unbinned[1:]) / 2\n",
    "\n",
    "\n",
    "\n",
    "    \n",
    "\n",
    "    ax0.plot(ob['midbins_mc'], of_histgen, **omnifold_style, label='MultiFold')\n",
    "\n",
    "    # plot the IBU distributio\n",
    "    ax0.plot(ob['midbins_mc'], ob['ibu_phis'][itnum], **ibu_style, label='IBU ' + ob['symbol'])\n",
    "\n",
    "    # Plot the Ratios of the OmniFold and IBU distributions to truth (with statistical uncertainties)\n",
    "    ibu_ratio = ob['ibu_phis'][itnum]/(ob['truth_hist'] + 10**-50)\n",
    "    of_ratio = of_histgen/(ob['truth_hist'] + 10**-50)\n",
    "    ax1.plot([np.min(ob['midbins_mc']), np.max(ob['midbins_mc'])], [1, 1], '-', color='green', lw=0.75)\n",
    "    \n",
    "    # ratio uncertainties\n",
    "    truth_unc_ratio = ob['truth_hist_unc']/(ob['truth_hist'] + 10**-50)\n",
    "    ibu_unc_ratio = ob['ibu_phi_unc']/(ob['truth_hist'] + 10**-50)\n",
    "    of_unc_ratio = of_histgen_unc/(ob['truth_hist'] + 10**-50)\n",
    "    \n",
    "    ax1.fill_between(ob['midbins_mc'], 1 - truth_unc_ratio, 1 + truth_unc_ratio, \n",
    "                     facecolor=truth_style['facecolor'], zorder=-2)\n",
    "    ax1.errorbar(ob['midbins_mc'], ibu_ratio, xerr=ob['binwidth_mc']/2, yerr=ibu_unc_ratio, \n",
    "                                              color=ibu_style['color'], **modplot.style('errorbar'))\n",
    "    ax1.errorbar(ob['midbins_mc'], of_ratio, xerr=ob['binwidth_mc']/2, yerr=of_unc_ratio, \n",
    "                                              color=omnifold_style['color'], **modplot.style('errorbar'))\n",
    "\n",
    "    # legend style and ordering\n",
    "    loc, ncol = ob.get('legend_loc', 'upper right'), ob.get('legend_ncol', 2)\n",
    "    order = [3, 4, 2, 5, 0, 1] if ncol==2 else [3, 5, 4, 0, 2, 1]\n",
    "    modplot.legend(ax=ax0, frameon=False, order=order, loc=loc, ncol=ncol)\n",
    "\n",
    "    # stamp to put on the plots\n",
    "    modplot.stamp(*ob['stamp_xy'], delta_y=0.06, ax=ax0,\n",
    "                  line_0=r'\\textbf{D/T}: \\textsc{Herwig 7.1.5} default',\n",
    "                  line_1=r'\\textbf{S/G}: \\textsc{Pythia 8.243} tune 26',\n",
    "                  line_2=r'\\textsc{Delphes 3.4.2} CMS Detector',\n",
    "                  line_3=r'$Z$+jet: $p_T^Z>200$ GeV, $R=0.4$')\n",
    "\n",
    "    # save plot (by default in the same directory as this notebook).\n",
    "    # If running on binder, the plot can be accessed by first going to the jupyter file browser\n",
    "    # (which itself can be accessed by copying the URL of this notebook and removing the name of the notebook\n",
    "    # after the final \"/\"), selecting the square next to the name of the plot, and clicking \"Download\".\n",
    "    fig.savefig('MultiFold_{}.pdf'.format(obkey), bbox_inches='tight')\n",
    "    plt.show()"
   ]
  },
  {
   "cell_type": "code",
   "execution_count": null,
   "metadata": {},
   "outputs": [],
   "source": []
  }
 ],
 "metadata": {
  "kernelspec": {
   "display_name": "Python 3 (ipykernel)",
   "language": "python",
   "name": "python3"
  },
  "language_info": {
   "codemirror_mode": {
    "name": "ipython",
    "version": 3
   },
   "file_extension": ".py",
   "mimetype": "text/x-python",
   "name": "python",
   "nbconvert_exporter": "python",
   "pygments_lexer": "ipython3",
   "version": "3.11.10"
  }
 },
 "nbformat": 4,
 "nbformat_minor": 2
}
